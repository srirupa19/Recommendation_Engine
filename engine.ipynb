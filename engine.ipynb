{
 "cells": [
  {
   "cell_type": "code",
   "execution_count": null,
   "source": [
    "import numpy as np\n",
    "import pandas as pd\n"
   ],
   "outputs": [],
   "metadata": {}
  },
  {
   "cell_type": "markdown",
   "source": [
    "<h3> Ratings matrix shown below displays the ratings provided by users to different movies. </h3>\n",
    "\n",
    "|  user_id  |  movie_id  |  rating  |  unix_timestamp  |\n",
    "|:---       |   :---:    |  :---:   |             ---: |\n",
    "|    196    |    242     |    3     |     881250949    |\n",
    "|    186    |    302     |    3     |     891717742    |\n",
    "|     22    |    377     |    1     |     878887116    |"
   ],
   "metadata": {}
  },
  {
   "cell_type": "code",
   "execution_count": null,
   "source": [
    "# Column headings of ratings given by users to different movies\n",
    "rating_cols = ['user_id', 'movie_id', 'rating', 'unix_timestamp']\n",
    "ratings = pd.read_csv('u.data', sep = '\\t', names = rating_cols, encoding = 'latin-1')\n",
    "\n",
    "print(\"Ratings details :\")\n",
    "print(ratings.head())"
   ],
   "outputs": [],
   "metadata": {}
  },
  {
   "cell_type": "markdown",
   "source": [
    "The movie matrix(1682 X 24) lists 1682 movies, each having 24 features.\n",
    "This matrix is primarily used to extract the movie names corresponding to movie ids. \n",
    "\n",
    "\n",
    "As of now, the other features are reduntant since the feature vectors for movies are trained later.\n"
   ],
   "metadata": {}
  },
  {
   "cell_type": "code",
   "execution_count": null,
   "source": [
    "# Column headings of movies\n",
    "movie_cols = ['movie id', 'movie title' ,'release date','video release date', 'IMDb URL', 'unknown', 'Action', 'Adventure',\n",
    "'Animation', 'Children\\'s', 'Comedy', 'Crime', 'Documentary', 'Drama', 'Fantasy',\n",
    "'Film-Noir', 'Horror', 'Musical', 'Mystery', 'Romance', 'Sci-Fi', 'Thriller', 'War', 'Western']\n",
    "movies = pd.read_csv('u.item', sep = '|', names = movie_cols, encoding = 'latin-1')\n",
    "\n",
    "print(\"Movie details :\")\n",
    "print(\"shape : \", movies.shape)\n",
    "print(movies.head())"
   ],
   "outputs": [],
   "metadata": {}
  },
  {
   "cell_type": "markdown",
   "source": [
    "The following user-movie matrix is created which is used in the training process.\n",
    "\n",
    "Each row represents the movies rated by a user. If the user has watched/rated a movie, the cell value lies between 1(poorly rated) to 5(highly rated). In case a user has not watched a movie, the cell value is kept at 0.\n",
    "\n",
    "|     | Toy Story (1995) | GoldenEye (1995) | Four Rooms (1995) | Get Shorty (1995) |\n",
    "|:--- |       :---:      |       :---:      |        :---:      |              ---: |\n",
    "|  1  |        5.0       |        3.0       |         4.0       |         3.0       |\n",
    "|  2  |        4.0       |        0.0       |         0.0       |         0.0       |\n",
    "|  3  |        0.0       |        0.0       |         0.0       |         0.0       |\n",
    "|  4  |        0.0       |        0.0       |         0.0       |         0.0       |\n",
    "|  5  |        4.0       |        3.0       |         0.0       |         0.0       |"
   ],
   "metadata": {}
  },
  {
   "cell_type": "code",
   "execution_count": null,
   "source": [
    "# Create the user-movie matrix\n",
    "col_name = []\n",
    "for row in movies.itertuples():\n",
    "    col_name.append(row[2])\n",
    "\n",
    "matrix_rows = ratings.user_id.unique().shape[0]\n",
    "matrix_cols = ratings.movie_id.unique().shape[0]\n",
    "\n",
    "ratings_matrix = np.zeros((matrix_rows, matrix_cols), dtype = np.int64)\n",
    "\n",
    "# Filling the user-movie matrix\n",
    "for row in ratings.itertuples():\n",
    "    # row[1] : user_id, row[2] : movie_id, row[3] = rating\n",
    "    ratings_matrix[row[1] - 1][row[2] - 1] = row[3]\n",
    "\n",
    "ratings_matrix_df = pd.DataFrame(ratings_matrix, columns = col_name)\n",
    "\n",
    "# converting numpy matrix to df\n",
    "nan_value = float(\"NaN\")\n",
    "ratings_matrix_df = ratings_matrix_df.replace(0, nan_value)  \n",
    "ratings_matrix_df = ratings_matrix_df.dropna(thresh = 10, axis = 1).fillna(0)\n",
    "\n",
    "print(ratings_matrix_df.head())"
   ],
   "outputs": [],
   "metadata": {}
  },
  {
   "cell_type": "markdown",
   "source": [
    "For easier matrix operations, the dataframe is converted to a numpy array.\n",
    "\n",
    "Our numpy array looks like:\n",
    "\n",
    "<h3>[[5. 3. 4. ... 0. 0. 0.]</h3>\n",
    "\n",
    "<h3> [4. 0. 0. ... 0. 0. 0.]</h3>\n",
    "\n",
    "<h3> [0. 0. 0. ... 0. 0. 0.]</h3>\n",
    "\n",
    "<h3> ... </h3>\n",
    "\n",
    "<h3> [5. 0. 0. ... 0. 0. 0.]</h3>\n",
    "\n",
    "<h3> [0. 0. 0. ... 0. 0. 0.]</h3>\n",
    " \n",
    "<h3> [0. 5. 0. ... 0. 0. 0.]]</h3>"
   ],
   "metadata": {}
  },
  {
   "cell_type": "code",
   "execution_count": null,
   "source": [
    "# Convert to numpy for easier matrix operations\n",
    "Ratings = ratings_matrix_df.to_numpy()\n",
    "print(Ratings)"
   ],
   "outputs": [],
   "metadata": {}
  },
  {
   "cell_type": "markdown",
   "source": [
    "<h3>Create randomised feature vectors for movies and users.</h3>\n",
    "\n",
    "In this case, both movie and user vectors are trained, so as to predict missing values(0 valued cells) in the user-move matrix. A predicted value corresponds to the predicted rating given to a movie by a user based on his preferences."
   ],
   "metadata": {}
  },
  {
   "cell_type": "code",
   "execution_count": null,
   "source": [
    "# Create the randomized weights\n",
    "\n",
    "# Number of users : 943\n",
    "N = len(Ratings)\n",
    "\n",
    "# Number of movies : 1682\n",
    "M = len(Ratings[0])\n",
    "\n",
    "# Num of Features\n",
    "K = 10\n",
    "\n",
    " \n",
    "Theta = np.random.rand(N,K)\n",
    "X = np.random.rand(M,K)\n",
    "print(X, Theta)"
   ],
   "outputs": [],
   "metadata": {}
  },
  {
   "cell_type": "markdown",
   "source": [
    "<h3>Suitable parameters are chosen to improve accuracy. This needs to be worked on to get improved accuracy.</h3>"
   ],
   "metadata": {}
  },
  {
   "cell_type": "code",
   "execution_count": null,
   "source": [
    "# Decide parameters\n",
    "iterations = 50\n",
    "alpha = 0.02\n",
    "lambdaa = 0.02"
   ],
   "outputs": [],
   "metadata": {}
  },
  {
   "cell_type": "markdown",
   "source": [
    "<h3>Gradient descent is performed so as to train the user and movie feature vectors</h3>\n",
    "\n",
    "Collaborative filtering algorithm is used for this purpose.\n",
    "\n",
    "<h3> The following cost function is used which simultenously minimise both movie and user vectors.</h3>\n",
    "\n",
    "![](J.png)\n",
    "\n",
    "<h3>The weights are adjusted in every iteration of gradient descent as shown.</h3>\n",
    "\n",
    "![](G.png)"
   ],
   "metadata": {}
  },
  {
   "cell_type": "code",
   "execution_count": null,
   "source": [
    "# Gradient descent\n",
    "X = X.T\n",
    "alpha_0 = alpha\n",
    "J_history = [0 for i in range(iterations)]\n",
    "for itr in range(iterations):\n",
    "    alpha = alpha_0 / (1 + (itr) / 20)\n",
    "    for i in range(N):\n",
    "        for j in range(M):\n",
    "            if Ratings[i][j] > 0:\n",
    "                error = np.dot(Theta[i,:], X[:,j])\n",
    "                for k in range(K):\n",
    "                    Theta[i][k] = Theta[i][k] - alpha * ((error - Ratings[i][j]) * X[k][i]   + lambdaa * Theta[i][k])\n",
    "                    X[k][j] = X[k][j] - alpha * ((error - Ratings[i][j]) * Theta[i][k]   + lambdaa * X[k][j])\n",
    "\n",
    "    J = 0\n",
    "    for i in range(N):\n",
    "        for j in range(M):\n",
    "            if Ratings[i][j] > 0:\n",
    "\n",
    "                J = J + 0.5 * pow(Ratings[i][j] - np.dot(Theta[i,:],X[:,j]), 2)\n",
    "\n",
    "                for k in range(K):\n",
    "\n",
    "                    J = J + 0.5 * (lambdaa / 2) * (pow(Theta[i][k],2) + pow(X[k][j],2))\n",
    "\n",
    "    print(\"In iteration \", itr, \" cost function is: \", J)\n",
    "    J_history[itr] = J\n",
    "\n",
    "    if J < 0.001:\n",
    "\n",
    "        break\n",
    "\n"
   ],
   "outputs": [],
   "metadata": {}
  },
  {
   "cell_type": "markdown",
   "source": [
    "<h2>The gradient descent plot is shown below</h2>\n",
    "\n",
    "![Gradient Descent](output.png)"
   ],
   "metadata": {}
  },
  {
   "cell_type": "code",
   "execution_count": null,
   "source": [
    "# Plot the cost function\n",
    "import matplotlib.pyplot as plt\n",
    "plt.plot(range(len(J_history)), J_history, 'r')\n",
    "plt.show()"
   ],
   "outputs": [],
   "metadata": {}
  },
  {
   "cell_type": "code",
   "execution_count": null,
   "source": [
    "print(np.dot(Theta, X))"
   ],
   "outputs": [],
   "metadata": {}
  },
  {
   "cell_type": "markdown",
   "source": [
    "<h3> Predicted ratings of all the movies for user 1</h3>"
   ],
   "metadata": {}
  },
  {
   "cell_type": "code",
   "execution_count": null,
   "source": [
    "H = np.dot(Theta, X)\n",
    "\n",
    "# Predict movies like by user1\n",
    "user_1 = H[1,:]\n",
    "user_1 = np.sort(user_1)\n",
    "user_1[:: -1]"
   ],
   "outputs": [],
   "metadata": {}
  }
 ],
 "metadata": {
  "orig_nbformat": 4,
  "language_info": {
   "name": "python",
   "version": "3.8.10",
   "mimetype": "text/x-python",
   "codemirror_mode": {
    "name": "ipython",
    "version": 3
   },
   "pygments_lexer": "ipython3",
   "nbconvert_exporter": "python",
   "file_extension": ".py"
  },
  "kernelspec": {
   "name": "python3",
   "display_name": "Python 3.8.10 64-bit"
  },
  "interpreter": {
   "hash": "916dbcbb3f70747c44a77c7bcd40155683ae19c65e1c03b4aa3499c5328201f1"
  }
 },
 "nbformat": 4,
 "nbformat_minor": 2
}